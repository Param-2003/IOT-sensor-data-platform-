{
 "cells": [
  {
   "cell_type": "code",
   "execution_count": null,
   "id": "ea22a80a-135e-411a-ab97-bf3bf2447495",
   "metadata": {},
   "outputs": [],
   "source": [
    "# 📡 IoT Sensor Data Platform – Real-Time Data Lake Architecture\n",
    "\n",
    "This notebook simulates a real-time data pipeline for 10,000+ IoT sensors streaming environmental data (e.g., temperature, humidity). Data is ingested, cleaned, stored, and analyzed for trends and anomalies, with architecture designed to scale into AWS Glue + Athena + S3 pipelines.\n"
   ]
  },
  {
   "cell_type": "code",
   "execution_count": 19,
   "id": "0de91974-8f79-4084-8697-204ee6cada30",
   "metadata": {},
   "outputs": [
    {
     "name": "stdout",
     "output_type": "stream",
     "text": [
      "Simulate IoT Data\n"
     ]
    }
   ],
   "source": [
    "import pandas as pd\n",
    "import random\n",
    "import time\n",
    "import numpy as np\n",
    "import matplotlib.pyplot as plt\n",
    "import seaborn as sns"
   ]
  },
  {
   "cell_type": "code",
   "execution_count": 35,
   "id": "fe188b27-fd99-49bf-8d1e-9a114ee459b1",
   "metadata": {},
   "outputs": [
    {
     "data": {
      "text/html": [
       "<div>\n",
       "<style scoped>\n",
       "    .dataframe tbody tr th:only-of-type {\n",
       "        vertical-align: middle;\n",
       "    }\n",
       "\n",
       "    .dataframe tbody tr th {\n",
       "        vertical-align: top;\n",
       "    }\n",
       "\n",
       "    .dataframe thead th {\n",
       "        text-align: right;\n",
       "    }\n",
       "</style>\n",
       "<table border=\"1\" class=\"dataframe\">\n",
       "  <thead>\n",
       "    <tr style=\"text-align: right;\">\n",
       "      <th></th>\n",
       "      <th>device_id</th>\n",
       "      <th>timestamp</th>\n",
       "      <th>temperature</th>\n",
       "      <th>humidity</th>\n",
       "    </tr>\n",
       "  </thead>\n",
       "  <tbody>\n",
       "    <tr>\n",
       "      <th>0</th>\n",
       "      <td>device_454</td>\n",
       "      <td>2025-04-29 17:14:01.604239</td>\n",
       "      <td>37.24</td>\n",
       "      <td>39.60</td>\n",
       "    </tr>\n",
       "    <tr>\n",
       "      <th>1</th>\n",
       "      <td>device_807</td>\n",
       "      <td>2025-04-29 17:14:01.604239</td>\n",
       "      <td>35.33</td>\n",
       "      <td>46.61</td>\n",
       "    </tr>\n",
       "    <tr>\n",
       "      <th>2</th>\n",
       "      <td>device_603</td>\n",
       "      <td>2025-04-29 17:14:01.604239</td>\n",
       "      <td>20.29</td>\n",
       "      <td>48.98</td>\n",
       "    </tr>\n",
       "    <tr>\n",
       "      <th>3</th>\n",
       "      <td>device_519</td>\n",
       "      <td>2025-04-29 17:14:01.604239</td>\n",
       "      <td>36.77</td>\n",
       "      <td>36.76</td>\n",
       "    </tr>\n",
       "    <tr>\n",
       "      <th>4</th>\n",
       "      <td>device_501</td>\n",
       "      <td>2025-04-29 17:14:01.604239</td>\n",
       "      <td>35.09</td>\n",
       "      <td>51.19</td>\n",
       "    </tr>\n",
       "  </tbody>\n",
       "</table>\n",
       "</div>"
      ],
      "text/plain": [
       "    device_id                  timestamp  temperature  humidity\n",
       "0  device_454 2025-04-29 17:14:01.604239        37.24     39.60\n",
       "1  device_807 2025-04-29 17:14:01.604239        35.33     46.61\n",
       "2  device_603 2025-04-29 17:14:01.604239        20.29     48.98\n",
       "3  device_519 2025-04-29 17:14:01.604239        36.77     36.76\n",
       "4  device_501 2025-04-29 17:14:01.604239        35.09     51.19"
      ]
     },
     "execution_count": 35,
     "metadata": {},
     "output_type": "execute_result"
    }
   ],
   "source": [
    "# Simulate 10,000 sensor records\n",
    "def generate_sensor_record():\n",
    "    return {\n",
    "        'device_id': f'device_{random.randint(1, 1000)}',\n",
    "        'timestamp': pd.Timestamp.now(),\n",
    "        'temperature': round(random.uniform(15.0, 40.0), 2),\n",
    "        'humidity': round(random.uniform(30.0, 90.0), 2)\n",
    "    }\n",
    "\n",
    "data = [generate_sensor_record() for _ in range(10000)]\n",
    "df_sensors = pd.DataFrame(data)\n",
    "df_sensors.head()\n"
   ]
  },
  {
   "cell_type": "code",
   "execution_count": 41,
   "id": "63af8d83-e7b1-4c66-a05e-8e8c75d098b8",
   "metadata": {},
   "outputs": [
    {
     "name": "stdout",
     "output_type": "stream",
     "text": [
      "Clean & Validate Data\n",
      "device_id      0\n",
      "timestamp      0\n",
      "temperature    0\n",
      "humidity       0\n",
      "dtype: int64\n",
      "✅ Cleaned rows: 10000\n"
     ]
    }
   ],
   "source": [
    "# Check for nulls or bad readings\n",
    "print(df_sensors.isnull().sum())\n",
    "\n",
    "# Drop rows with invalid temperature/humidity values (if needed)\n",
    "df_cleaned = df_sensors[\n",
    "    (df_sensors['temperature'] > 0) &\n",
    "    (df_sensors['humidity'] > 0)\n",
    "]\n",
    "\n",
    "print(f\"✅ Cleaned rows: {len(df_cleaned)}\")\n"
   ]
  },
  {
   "cell_type": "code",
   "execution_count": 43,
   "id": "8925fd67-8f37-4066-9cb8-ebff707e8276",
   "metadata": {},
   "outputs": [
    {
     "name": "stdout",
     "output_type": "stream",
     "text": [
      "Trend & Stats Analysis\n"
     ]
    },
    {
     "data": {
      "text/html": [
       "<div>\n",
       "<style scoped>\n",
       "    .dataframe tbody tr th:only-of-type {\n",
       "        vertical-align: middle;\n",
       "    }\n",
       "\n",
       "    .dataframe tbody tr th {\n",
       "        vertical-align: top;\n",
       "    }\n",
       "\n",
       "    .dataframe thead th {\n",
       "        text-align: right;\n",
       "    }\n",
       "</style>\n",
       "<table border=\"1\" class=\"dataframe\">\n",
       "  <thead>\n",
       "    <tr style=\"text-align: right;\">\n",
       "      <th></th>\n",
       "      <th>device_id</th>\n",
       "      <th>temperature</th>\n",
       "      <th>humidity</th>\n",
       "    </tr>\n",
       "  </thead>\n",
       "  <tbody>\n",
       "    <tr>\n",
       "      <th>0</th>\n",
       "      <td>device_1</td>\n",
       "      <td>24.943846</td>\n",
       "      <td>61.087692</td>\n",
       "    </tr>\n",
       "    <tr>\n",
       "      <th>1</th>\n",
       "      <td>device_10</td>\n",
       "      <td>23.864118</td>\n",
       "      <td>53.101176</td>\n",
       "    </tr>\n",
       "    <tr>\n",
       "      <th>2</th>\n",
       "      <td>device_100</td>\n",
       "      <td>26.635714</td>\n",
       "      <td>67.724286</td>\n",
       "    </tr>\n",
       "    <tr>\n",
       "      <th>3</th>\n",
       "      <td>device_1000</td>\n",
       "      <td>29.827500</td>\n",
       "      <td>66.169167</td>\n",
       "    </tr>\n",
       "    <tr>\n",
       "      <th>4</th>\n",
       "      <td>device_101</td>\n",
       "      <td>25.668000</td>\n",
       "      <td>59.844000</td>\n",
       "    </tr>\n",
       "  </tbody>\n",
       "</table>\n",
       "</div>"
      ],
      "text/plain": [
       "     device_id  temperature   humidity\n",
       "0     device_1    24.943846  61.087692\n",
       "1    device_10    23.864118  53.101176\n",
       "2   device_100    26.635714  67.724286\n",
       "3  device_1000    29.827500  66.169167\n",
       "4   device_101    25.668000  59.844000"
      ]
     },
     "execution_count": 43,
     "metadata": {},
     "output_type": "execute_result"
    }
   ],
   "source": [
    "# Descriptive stats\n",
    "df_cleaned.describe()\n",
    "\n",
    "# Group by device\n",
    "device_avg = df_cleaned.groupby('device_id').agg({\n",
    "    'temperature': 'mean',\n",
    "    'humidity': 'mean'\n",
    "}).reset_index()\n",
    "\n",
    "device_avg.head()\n"
   ]
  },
  {
   "cell_type": "code",
   "execution_count": 45,
   "id": "34d19632-43af-4ab1-93b0-3f1ae3917092",
   "metadata": {},
   "outputs": [
    {
     "name": "stdout",
     "output_type": "stream",
     "text": [
      "Detect Anomalies\n",
      "⚠️ Anomaly Count: 777\n"
     ]
    },
    {
     "data": {
      "text/html": [
       "<div>\n",
       "<style scoped>\n",
       "    .dataframe tbody tr th:only-of-type {\n",
       "        vertical-align: middle;\n",
       "    }\n",
       "\n",
       "    .dataframe tbody tr th {\n",
       "        vertical-align: top;\n",
       "    }\n",
       "\n",
       "    .dataframe thead th {\n",
       "        text-align: right;\n",
       "    }\n",
       "</style>\n",
       "<table border=\"1\" class=\"dataframe\">\n",
       "  <thead>\n",
       "    <tr style=\"text-align: right;\">\n",
       "      <th></th>\n",
       "      <th>device_id</th>\n",
       "      <th>timestamp</th>\n",
       "      <th>temperature</th>\n",
       "      <th>humidity</th>\n",
       "      <th>temp_alert</th>\n",
       "    </tr>\n",
       "  </thead>\n",
       "  <tbody>\n",
       "    <tr>\n",
       "      <th>10</th>\n",
       "      <td>device_659</td>\n",
       "      <td>2025-04-29 17:14:01.604239</td>\n",
       "      <td>38.13</td>\n",
       "      <td>69.63</td>\n",
       "      <td>True</td>\n",
       "    </tr>\n",
       "    <tr>\n",
       "      <th>31</th>\n",
       "      <td>device_623</td>\n",
       "      <td>2025-04-29 17:14:01.604239</td>\n",
       "      <td>38.37</td>\n",
       "      <td>54.78</td>\n",
       "      <td>True</td>\n",
       "    </tr>\n",
       "    <tr>\n",
       "      <th>80</th>\n",
       "      <td>device_272</td>\n",
       "      <td>2025-04-29 17:14:01.604239</td>\n",
       "      <td>38.33</td>\n",
       "      <td>63.77</td>\n",
       "      <td>True</td>\n",
       "    </tr>\n",
       "    <tr>\n",
       "      <th>112</th>\n",
       "      <td>device_427</td>\n",
       "      <td>2025-04-29 17:14:01.606253</td>\n",
       "      <td>38.89</td>\n",
       "      <td>47.20</td>\n",
       "      <td>True</td>\n",
       "    </tr>\n",
       "    <tr>\n",
       "      <th>124</th>\n",
       "      <td>device_889</td>\n",
       "      <td>2025-04-29 17:14:01.606253</td>\n",
       "      <td>38.32</td>\n",
       "      <td>81.26</td>\n",
       "      <td>True</td>\n",
       "    </tr>\n",
       "  </tbody>\n",
       "</table>\n",
       "</div>"
      ],
      "text/plain": [
       "      device_id                  timestamp  temperature  humidity  temp_alert\n",
       "10   device_659 2025-04-29 17:14:01.604239        38.13     69.63        True\n",
       "31   device_623 2025-04-29 17:14:01.604239        38.37     54.78        True\n",
       "80   device_272 2025-04-29 17:14:01.604239        38.33     63.77        True\n",
       "112  device_427 2025-04-29 17:14:01.606253        38.89     47.20        True\n",
       "124  device_889 2025-04-29 17:14:01.606253        38.32     81.26        True"
      ]
     },
     "execution_count": 45,
     "metadata": {},
     "output_type": "execute_result"
    }
   ],
   "source": [
    "# Flag temperature anomalies (>38°C)\n",
    "df_cleaned['temp_alert'] = df_cleaned['temperature'] > 38.0\n",
    "alerts = df_cleaned[df_cleaned['temp_alert']]\n",
    "print(f\"⚠️ Anomaly Count: {len(alerts)}\")\n",
    "alerts.head()\n"
   ]
  },
  {
   "cell_type": "code",
   "execution_count": 47,
   "id": "c4b9e78e-b635-42c0-9a48-f8bdcd18c5ec",
   "metadata": {},
   "outputs": [
    {
     "name": "stdout",
     "output_type": "stream",
     "text": [
      "Visualization\n"
     ]
    },
    {
     "data": {
      "image/png": "[encoded data removed]",
      "text/plain": [
       "<Figure size 1200x600 with 1 Axes>"
      ]
     },
     "metadata": {},
     "output_type": "display_data"
    }
   ],
   "source": [
    "plt.figure(figsize=(12,6))\n",
    "sns.histplot(df_cleaned['temperature'], bins=30, kde=True, color='orange')\n",
    "plt.title(\"Temperature Distribution Across Sensors\")\n",
    "plt.xlabel(\"Temperature (°C)\")\n",
    "plt.ylabel(\"Frequency\")\n",
    "plt.grid(True)\n",
    "plt.show()\n"
   ]
  },
  {
   "cell_type": "code",
   "execution_count": 49,
   "id": "5f8d89f1-14aa-4d9b-80a4-390b30dc9670",
   "metadata": {},
   "outputs": [
    {
     "name": "stdout",
     "output_type": "stream",
     "text": [
      "Save Cleaned Data (Simulated S3 Upload)\n",
      "✅ Cleaned IoT data saved for Athena/Glue processing.\n"
     ]
    }
   ],
   "source": [
    "df_cleaned.to_csv(\"cleaned_iot_sensor_data.csv\", index=False)\n",
    "print(\"✅ Cleaned IoT data saved for Athena/Glue processing.\")\n"
   ]
  },
  {
   "cell_type": "code",
   "execution_count": null,
   "id": "1d7e0ba2-5493-4675-9fa1-852b1e2ca296",
   "metadata": {},
   "outputs": [],
   "source": [
    "## ✅ Conclusion\n",
    "\n",
    "- Simulated 10,000+ real-time sensor records\n",
    "- Cleaned and validated the dataset\n",
    "- Detected temperature anomalies and flagged alerts\n",
    "- Saved data for cloud-scale processing via AWS Glue + Athena\n",
    "- Visualization built for trends and anomalies\n",
    "\n",
    "This project is designed to scale on AWS using the following architecture:\n",
    "Kafka/Kinesis ➝ S3 ➝ AWS Glue ➝ Athena ➝ Alerts (SNS) + Dashboards (Grafana)\n"
   ]
  }
 ],
 "metadata": {
  "kernelspec": {
   "display_name": "Python 3 (ipykernel)",
   "language": "python",
   "name": "python3"
  },
  "language_info": {
   "codemirror_mode": {
    "name": "ipython",
    "version": 3
   },
   "file_extension": ".py",
   "mimetype": "text/x-python",
   "name": "python",
   "nbconvert_exporter": "python",
   "pygments_lexer": "ipython3",
   "version": "3.11.5"
  }
 },
 "nbformat": 4,
 "nbformat_minor": 5
}
